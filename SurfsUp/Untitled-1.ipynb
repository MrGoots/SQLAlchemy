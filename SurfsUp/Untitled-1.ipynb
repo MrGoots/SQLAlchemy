{
 "cells": [
  {
   "cell_type": "code",
   "execution_count": 53,
   "metadata": {},
   "outputs": [],
   "source": [
    "import numpy as np\n",
    "\n",
    "import sqlalchemy\n",
    "from sqlalchemy.ext.automap import automap_base\n",
    "from sqlalchemy.orm import Session\n",
    "from sqlalchemy import create_engine, func\n",
    "\n",
    "from flask import Flask, jsonify\n",
    "\n",
    "import datetime as dt\n",
    "from dateutil.relativedelta import relativedelta"
   ]
  },
  {
   "cell_type": "code",
   "execution_count": 54,
   "metadata": {},
   "outputs": [],
   "source": [
    "#################################################\n",
    "# Database Setup\n",
    "#################################################\n",
    "engine = create_engine('sqlite:///./Resources/hawaii.sqlite', echo=False)\n",
    "\n",
    "# reflect an existing database into a new model\n",
    "Base = automap_base()\n",
    "# reflect the tables\n",
    "Base.prepare(engine, reflect=True)\n",
    "#print(Base.classes.keys())\n",
    "\n",
    "Measurement = Base.classes.measurement\n",
    "Station = Base.classes.station"
   ]
  },
  {
   "cell_type": "code",
   "execution_count": 55,
   "metadata": {},
   "outputs": [],
   "source": [
    "#################################################\n",
    "# Flask Setup\n",
    "#################################################\n",
    "app = Flask(__name__)\n",
    "#################################################\n",
    "# Flask Routes\n",
    "#################################################\n",
    "@app.route(\"/\")\n",
    "def home():\n",
    "    \"\"\"All Available API Routes List:\"\"\"\n",
    "    return (\n",
    "        f\"<h1>This is a Flask API for the Climate App</h1\"\n",
    "        f\"<h2>Available API Routes:</h2\"\n",
    "        f\"/api/precipitation<br/>\"\n",
    "        f\"/api/stations<br/>\"\n",
    "        f\"/api/tobs<br/>\"\n",
    "        f\"/api/start<br/>\"\n",
    "        f\"/api/start/end<br/>\"\n",
    "\n",
    "        f\"<h2>Click here to get links for precipitation stats:</h2>\"\n",
    "        f\"<ol><li><a href=http://127.0.0.1:5000/api/precipitation>\"\n",
    "        f\"JSON Precipitation by dates</a></li><br/><br/>\"\n",
    "        f\"<li><a href=http://127.0.0.1:5000/api/stations>\"\n",
    "        f\"JSON Weather station details</a></li><br/><br/>\"\n",
    "        f\"<li><a href=http://127.0.0.1:5000/api/tobs>\"\n",
    "        f\"JSON 12 month records</a></li><br/><br/>\"\n",
    "        f\"<li><a href=http://127.0.0.1:5000/api/2017-08-23>\"\n",
    "        f\"Metrics from input start date</a></li><br/><br/>\"\n",
    "        f\"<li><a href=http://127.0.0.1:5000/api/2016-08-23/2017-08-23>\"\n",
    "        f\"Metrics from input start & end dates</a></li></ol><br/>\"\n",
    "       \n",
    "    )\n",
    "\n"
   ]
  },
  {
   "cell_type": "code",
   "execution_count": 56,
   "metadata": {},
   "outputs": [],
   "source": [
    "@app.route('/api/precipitation')\n",
    "def precipitation():\n",
    "    session = Session(engine)\n",
    "    \n",
    "    last_measurement = session.query(\n",
    "        Measurement.date).order_by(Measurement.date.desc()).first()\n",
    "    (latest_date, ) = last_measurement\n",
    "    latest_date = dt.datetime.strptime(latest_date, '%Y-%m-%d')\n",
    "    latest_date = latest_date.date()\n",
    "    year_ago = latest_date - relativedelta(years=1)\n",
    "    from_last_year = session.query(Measurement.date, Measurement.prcp).filter(\n",
    "        Measurement.date >= date_year_ago).all()\n",
    "    session.close()\n",
    "\n",
    "    total_precipitation = []\n",
    "    for date, prcp in from_last_year:\n",
    "        if prcp != None:\n",
    "            precip_dict = {}\n",
    "            precip_dict[date] = prcp\n",
    "            total_precipitation.append(precip_dict)\n",
    "    return jsonify(total_precipitation)    "
   ]
  },
  {
   "cell_type": "code",
   "execution_count": 58,
   "metadata": {},
   "outputs": [],
   "source": [
    "@app.route('/api/tobs')\n",
    "def tobs():\n",
    "    session = Session(engine)\n",
    "    \n",
    "    last_measurement_data = session.query(\n",
    "        Measurement.date).order_by(Measurement.date.desc()).first()\n",
    "    (latest_date, ) = last_measurement\n",
    "    latest_date = dt.datetime.strptime(latest_date, '%Y-%m-%d')\n",
    "    latest_date = latest_date.date()\n",
    "    year_ago = latest_date - relativedelta(years=1)\n",
    "    \n",
    "    active_station = session.query(Measurement.station).\\\n",
    "        group_by(Measurement.station).\\\n",
    "        order_by(func.count().desc()).\\\n",
    "        first()\n",
    "    (highest_active_station_id, ) = active_station\n",
    "    print(f\"The most active station is {highest_active_station_id}.\")\n",
    "    \n",
    "    from_last_year = session.query(Measurement.date, Measurement.tobs).filter(\n",
    "    Measurement.station == highest_active_station_id).filter(Measurement.date >= year_ago).all()\n",
    "    session.close()\n",
    "\n",
    "    total_temps = []\n",
    "    for date, temp in from_last_year:\n",
    "        if temp != None:\n",
    "            temp_d = {}\n",
    "            temp_d[date] = temp\n",
    "            total_temps.append(temp_d)\n",
    "    return jsonify(total_temps)\n"
   ]
  },
  {
   "cell_type": "code",
   "execution_count": 59,
   "metadata": {},
   "outputs": [],
   "source": [
    "@app.route('/api/stations')\n",
    "def stations():\n",
    "    '''JSON list of stations'''\n",
    "    session = Session(engine)\n",
    "    stations = session.query(Station.station, Station.name,\n",
    "                            Station.latitude, Station.longitude, Station.elevation).all()"
   ]
  }
 ],
 "metadata": {
  "kernelspec": {
   "display_name": "dev",
   "language": "python",
   "name": "python3"
  },
  "language_info": {
   "codemirror_mode": {
    "name": "ipython",
    "version": 3
   },
   "file_extension": ".py",
   "mimetype": "text/x-python",
   "name": "python",
   "nbconvert_exporter": "python",
   "pygments_lexer": "ipython3",
   "version": "3.10.12"
  },
  "orig_nbformat": 4
 },
 "nbformat": 4,
 "nbformat_minor": 2
}
